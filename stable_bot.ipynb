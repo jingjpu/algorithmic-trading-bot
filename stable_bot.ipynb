{
 "cells": [
  {
   "cell_type": "code",
   "execution_count": null,
   "id": "bf1ff49b-b2e8-4c11-8480-de19a3669a0a",
   "metadata": {},
   "outputs": [],
   "source": []
  },
  {
   "cell_type": "markdown",
   "id": "c840bfdc-082b-4928-9f1e-a5e48fdcee6d",
   "metadata": {},
   "source": [
    "## Import the required libraries and dependencies"
   ]
  },
  {
   "cell_type": "code",
   "execution_count": 4,
   "id": "09879cfe-5482-4e7b-b2f8-930a3a813a45",
   "metadata": {
    "tags": []
   },
   "outputs": [],
   "source": [
    "# Import the required libraries and dependencies\n",
    "import os\n",
    "import requests\n",
    "import pandas as pd\n",
    "from dotenv import load_dotenv\n",
    "import alpaca_trade_api as tradeapi\n",
    "%matplotlib inline\n",
    "from alpaca_trade_api.rest import TimeFrame"
   ]
  },
  {
   "cell_type": "markdown",
   "id": "528385db-eb73-4152-97ac-8485fe5b7167",
   "metadata": {},
   "source": [
    "## Step 1: Create an environment file (`.env`) in the root of the `Unsolved` folder. This file will hold your Alpaca API and secret keys."
   ]
  },
  {
   "cell_type": "markdown",
   "id": "90e95478-47e5-4e23-b5d4-eb6ccd8232d5",
   "metadata": {},
   "source": [
    "## Step 2: Load the Alpaca API and secret keys into `decisive_probability_distributions.ipynb`, and set the values equal to variables of the same name.\n",
    "\n",
    "* Load the environment variable by calling the `load_dotenv()` function.\n",
    "* Set the value of the variables `alpaca_api_key` and `alpaca_secret_key` equal to their respective environment variables. \n",
    "* Confirm the variables are available by checking the `type` of each. "
   ]
  },
  {
   "cell_type": "code",
   "execution_count": 5,
   "id": "3a4d3cde-c590-46ca-81c8-ec624ba98227",
   "metadata": {},
   "outputs": [
    {
     "data": {
      "text/plain": [
       "True"
      ]
     },
     "execution_count": 5,
     "metadata": {},
     "output_type": "execute_result"
    }
   ],
   "source": [
    "# Load the environment variables by calling the load_dotenv function\n",
    "load_dotenv()\n"
   ]
  },
  {
   "cell_type": "code",
   "execution_count": 6,
   "id": "cbd1a3ec-7975-41bc-a25d-cdf5146a27d1",
   "metadata": {},
   "outputs": [
    {
     "data": {
      "text/plain": [
       "str"
      ]
     },
     "execution_count": 6,
     "metadata": {},
     "output_type": "execute_result"
    }
   ],
   "source": [
    "# Set Alpaca API key and secret by calling the os.getenv function and referencing the environment variable names\n",
    "# Set each environment variable to a notebook variable of the same name\n",
    "alpaca_api_key = os.getenv(\"ALPACA_API_KEY\")\n",
    "alpaca_secret_key = os.getenv(\"ALPACA_SECRET_KEY\")\n",
    "\n",
    "# Check the values were imported correctly by evaluating the type of each\n",
    "type(alpaca_api_key)\n",
    "type(alpaca_secret_key)\n",
    "    "
   ]
  },
  {
   "cell_type": "markdown",
   "id": "daa998b5-bb3f-4cba-870f-abef8d9bafa0",
   "metadata": {},
   "source": [
    "## Step 3: Create the Alpaca API `REST` object by calling the Alpaca `tradeapi.REST` function and setting `alpaca_api_key`, `alpaca_secret_key`, and `api_version`."
   ]
  },
  {
   "cell_type": "code",
   "execution_count": 7,
   "id": "57930365-98de-46a7-8d2c-801c55c0f22f",
   "metadata": {
    "tags": []
   },
   "outputs": [],
   "source": [
    "# Create your Alpaca API REST object by calling Alpaca's tradeapi.REST function\n",
    "# Set the parameters to your alpaca_api_key, alpaca_secret_key and api_version=\"v2\" \n",
    "alpaca = tradeapi.REST(\n",
    "    alpaca_api_key,\n",
    "    alpaca_secret_key,\n",
    "    api_version=\"v2\")\n",
    "\n"
   ]
  },
  {
   "cell_type": "markdown",
   "id": "0fd7a158-5b67-42a7-800f-85a0725dd984",
   "metadata": {},
   "source": [
    "## Step 4: Use the Alpaca SDK to make an API call that gets one year of daily stock information (from 2019-05-01 to 2020-05-01) for the following stock tickers:\n",
    ".\n",
    "* Create the value for the required `tickers`.\n",
    "* Set the values for `start_date` and `end_date` using the `pd.Timestamp` function. The dates should be 2019-05-01 through 2020-05-01.\n",
    "* Set the `timeframe` value to 1 day.\n",
    "* Create the `portfolio_prices_df` DataFrame by setting it equal to the `alpaca.get_barset` function. "
   ]
  },
  {
   "cell_type": "code",
   "execution_count": 8,
   "id": "8f4bd23d-2ba2-40b0-a085-74786a3b435e",
   "metadata": {},
   "outputs": [],
   "source": [
    "# Create the list for the required tickers\n",
    "tickers = [\"SPY\"]\n"
   ]
  },
  {
   "cell_type": "code",
   "execution_count": 9,
   "id": "7b3392cd-1b8b-4853-9143-e8a86516b1e3",
   "metadata": {},
   "outputs": [],
   "source": [
    "# Set the values for start_date and end_date using the pd.Timestamp function\n",
    "# The start and end data should be 2019-05-01 to 2020-05-01\n",
    "# Set the parameter tz to \"America/New_York\", \n",
    "# Set this all to the ISO format by calling the isoformat function \n",
    "start_date = pd.Timestamp(\"2019-05-02\", tz=\"America/New_York\").isoformat()\n",
    "end_date = pd.Timestamp(\"2020-05-02\", tz=\"America/New_York\").isoformat()\n"
   ]
  },
  {
   "cell_type": "code",
   "execution_count": 10,
   "id": "c9211a82-1c42-4b9e-80b5-a194195340c3",
   "metadata": {},
   "outputs": [
    {
     "data": {
      "text/html": [
       "<div>\n",
       "<style scoped>\n",
       "    .dataframe tbody tr th:only-of-type {\n",
       "        vertical-align: middle;\n",
       "    }\n",
       "\n",
       "    .dataframe tbody tr th {\n",
       "        vertical-align: top;\n",
       "    }\n",
       "\n",
       "    .dataframe thead th {\n",
       "        text-align: right;\n",
       "    }\n",
       "</style>\n",
       "<table border=\"1\" class=\"dataframe\">\n",
       "  <thead>\n",
       "    <tr style=\"text-align: right;\">\n",
       "      <th></th>\n",
       "      <th>open</th>\n",
       "      <th>high</th>\n",
       "      <th>low</th>\n",
       "      <th>close</th>\n",
       "      <th>volume</th>\n",
       "      <th>trade_count</th>\n",
       "      <th>vwap</th>\n",
       "      <th>symbol</th>\n",
       "    </tr>\n",
       "    <tr>\n",
       "      <th>timestamp</th>\n",
       "      <th></th>\n",
       "      <th></th>\n",
       "      <th></th>\n",
       "      <th></th>\n",
       "      <th></th>\n",
       "      <th></th>\n",
       "      <th></th>\n",
       "      <th></th>\n",
       "    </tr>\n",
       "  </thead>\n",
       "  <tbody>\n",
       "    <tr>\n",
       "      <th>2019-05-02 04:00:00+00:00</th>\n",
       "      <td>291.68</td>\n",
       "      <td>292.70</td>\n",
       "      <td>289.5200</td>\n",
       "      <td>291.18</td>\n",
       "      <td>65058183</td>\n",
       "      <td>342564</td>\n",
       "      <td>291.101680</td>\n",
       "      <td>SPY</td>\n",
       "    </tr>\n",
       "    <tr>\n",
       "      <th>2019-05-03 04:00:00+00:00</th>\n",
       "      <td>292.80</td>\n",
       "      <td>294.34</td>\n",
       "      <td>291.2998</td>\n",
       "      <td>294.03</td>\n",
       "      <td>56579556</td>\n",
       "      <td>249557</td>\n",
       "      <td>293.438891</td>\n",
       "      <td>SPY</td>\n",
       "    </tr>\n",
       "    <tr>\n",
       "      <th>2019-05-06 04:00:00+00:00</th>\n",
       "      <td>289.24</td>\n",
       "      <td>293.31</td>\n",
       "      <td>288.9000</td>\n",
       "      <td>292.82</td>\n",
       "      <td>107250892</td>\n",
       "      <td>390959</td>\n",
       "      <td>291.952803</td>\n",
       "      <td>SPY</td>\n",
       "    </tr>\n",
       "    <tr>\n",
       "      <th>2019-05-07 04:00:00+00:00</th>\n",
       "      <td>290.15</td>\n",
       "      <td>290.81</td>\n",
       "      <td>285.8100</td>\n",
       "      <td>287.93</td>\n",
       "      <td>145292657</td>\n",
       "      <td>618594</td>\n",
       "      <td>288.280747</td>\n",
       "      <td>SPY</td>\n",
       "    </tr>\n",
       "    <tr>\n",
       "      <th>2019-05-08 04:00:00+00:00</th>\n",
       "      <td>287.56</td>\n",
       "      <td>289.43</td>\n",
       "      <td>286.8700</td>\n",
       "      <td>287.53</td>\n",
       "      <td>91714817</td>\n",
       "      <td>455857</td>\n",
       "      <td>288.141309</td>\n",
       "      <td>SPY</td>\n",
       "    </tr>\n",
       "  </tbody>\n",
       "</table>\n",
       "</div>"
      ],
      "text/plain": [
       "                             open    high       low   close     volume  \\\n",
       "timestamp                                                                \n",
       "2019-05-02 04:00:00+00:00  291.68  292.70  289.5200  291.18   65058183   \n",
       "2019-05-03 04:00:00+00:00  292.80  294.34  291.2998  294.03   56579556   \n",
       "2019-05-06 04:00:00+00:00  289.24  293.31  288.9000  292.82  107250892   \n",
       "2019-05-07 04:00:00+00:00  290.15  290.81  285.8100  287.93  145292657   \n",
       "2019-05-08 04:00:00+00:00  287.56  289.43  286.8700  287.53   91714817   \n",
       "\n",
       "                           trade_count        vwap symbol  \n",
       "timestamp                                                  \n",
       "2019-05-02 04:00:00+00:00       342564  291.101680    SPY  \n",
       "2019-05-03 04:00:00+00:00       249557  293.438891    SPY  \n",
       "2019-05-06 04:00:00+00:00       390959  291.952803    SPY  \n",
       "2019-05-07 04:00:00+00:00       618594  288.280747    SPY  \n",
       "2019-05-08 04:00:00+00:00       455857  288.141309    SPY  "
      ]
     },
     "execution_count": 10,
     "metadata": {},
     "output_type": "execute_result"
    }
   ],
   "source": [
    "# Use the Alpaca get_barset function to gather the price information for each ticker\n",
    "# Include the function parameters: tickers, timeframe, start, end, and limit\n",
    "# Be sure to call the df property to ensure that the returned information is set as a DataFrame\n",
    "prices_df = alpaca.get_bars(\n",
    "  tickers,\n",
    "  TimeFrame.Day,\n",
    "  start=start_date,\n",
    "  end=end_date\n",
    ").df.iloc[:1000]\n",
    "\n",
    "#api.get_bars(\"AAPL\", TimeFrame.Hour, \"2021-06-01\", \"2021-06-01\").df.iloc[:10]\n",
    "\n",
    "# Review the first five rows of the resulting DataFrame \n",
    "prices_df.head()\n"
   ]
  },
  {
   "cell_type": "markdown",
   "id": "f59de820-ff3e-4d56-8118-a93c5e6b4374",
   "metadata": {},
   "source": [
    "### Create a signals dataframe with returns from close prices"
   ]
  },
  {
   "cell_type": "code",
   "execution_count": 20,
   "id": "fe952c2b-df19-4860-84a6-86d0aa043041",
   "metadata": {},
   "outputs": [
    {
     "data": {
      "text/html": [
       "<div>\n",
       "<style scoped>\n",
       "    .dataframe tbody tr th:only-of-type {\n",
       "        vertical-align: middle;\n",
       "    }\n",
       "\n",
       "    .dataframe tbody tr th {\n",
       "        vertical-align: top;\n",
       "    }\n",
       "\n",
       "    .dataframe thead th {\n",
       "        text-align: right;\n",
       "    }\n",
       "</style>\n",
       "<table border=\"1\" class=\"dataframe\">\n",
       "  <thead>\n",
       "    <tr style=\"text-align: right;\">\n",
       "      <th></th>\n",
       "      <th>close</th>\n",
       "      <th>Actual Returns</th>\n",
       "    </tr>\n",
       "    <tr>\n",
       "      <th>timestamp</th>\n",
       "      <th></th>\n",
       "      <th></th>\n",
       "    </tr>\n",
       "  </thead>\n",
       "  <tbody>\n",
       "    <tr>\n",
       "      <th>2019-05-03 04:00:00+00:00</th>\n",
       "      <td>294.03</td>\n",
       "      <td>0.009788</td>\n",
       "    </tr>\n",
       "    <tr>\n",
       "      <th>2019-05-06 04:00:00+00:00</th>\n",
       "      <td>292.82</td>\n",
       "      <td>-0.004115</td>\n",
       "    </tr>\n",
       "    <tr>\n",
       "      <th>2019-05-07 04:00:00+00:00</th>\n",
       "      <td>287.93</td>\n",
       "      <td>-0.016700</td>\n",
       "    </tr>\n",
       "    <tr>\n",
       "      <th>2019-05-08 04:00:00+00:00</th>\n",
       "      <td>287.53</td>\n",
       "      <td>-0.001389</td>\n",
       "    </tr>\n",
       "    <tr>\n",
       "      <th>2019-05-09 04:00:00+00:00</th>\n",
       "      <td>286.66</td>\n",
       "      <td>-0.003026</td>\n",
       "    </tr>\n",
       "  </tbody>\n",
       "</table>\n",
       "</div>"
      ],
      "text/plain": [
       "                            close  Actual Returns\n",
       "timestamp                                        \n",
       "2019-05-03 04:00:00+00:00  294.03        0.009788\n",
       "2019-05-06 04:00:00+00:00  292.82       -0.004115\n",
       "2019-05-07 04:00:00+00:00  287.93       -0.016700\n",
       "2019-05-08 04:00:00+00:00  287.53       -0.001389\n",
       "2019-05-09 04:00:00+00:00  286.66       -0.003026"
      ]
     },
     "metadata": {},
     "output_type": "display_data"
    },
    {
     "data": {
      "text/html": [
       "<div>\n",
       "<style scoped>\n",
       "    .dataframe tbody tr th:only-of-type {\n",
       "        vertical-align: middle;\n",
       "    }\n",
       "\n",
       "    .dataframe tbody tr th {\n",
       "        vertical-align: top;\n",
       "    }\n",
       "\n",
       "    .dataframe thead th {\n",
       "        text-align: right;\n",
       "    }\n",
       "</style>\n",
       "<table border=\"1\" class=\"dataframe\">\n",
       "  <thead>\n",
       "    <tr style=\"text-align: right;\">\n",
       "      <th></th>\n",
       "      <th>close</th>\n",
       "      <th>Actual Returns</th>\n",
       "    </tr>\n",
       "    <tr>\n",
       "      <th>timestamp</th>\n",
       "      <th></th>\n",
       "      <th></th>\n",
       "    </tr>\n",
       "  </thead>\n",
       "  <tbody>\n",
       "    <tr>\n",
       "      <th>2020-04-27 04:00:00+00:00</th>\n",
       "      <td>287.05</td>\n",
       "      <td>0.014418</td>\n",
       "    </tr>\n",
       "    <tr>\n",
       "      <th>2020-04-28 04:00:00+00:00</th>\n",
       "      <td>285.73</td>\n",
       "      <td>-0.004599</td>\n",
       "    </tr>\n",
       "    <tr>\n",
       "      <th>2020-04-29 04:00:00+00:00</th>\n",
       "      <td>293.21</td>\n",
       "      <td>0.026179</td>\n",
       "    </tr>\n",
       "    <tr>\n",
       "      <th>2020-04-30 04:00:00+00:00</th>\n",
       "      <td>290.48</td>\n",
       "      <td>-0.009311</td>\n",
       "    </tr>\n",
       "    <tr>\n",
       "      <th>2020-05-01 04:00:00+00:00</th>\n",
       "      <td>282.79</td>\n",
       "      <td>-0.026473</td>\n",
       "    </tr>\n",
       "  </tbody>\n",
       "</table>\n",
       "</div>"
      ],
      "text/plain": [
       "                            close  Actual Returns\n",
       "timestamp                                        \n",
       "2020-04-27 04:00:00+00:00  287.05        0.014418\n",
       "2020-04-28 04:00:00+00:00  285.73       -0.004599\n",
       "2020-04-29 04:00:00+00:00  293.21        0.026179\n",
       "2020-04-30 04:00:00+00:00  290.48       -0.009311\n",
       "2020-05-01 04:00:00+00:00  282.79       -0.026473"
      ]
     },
     "metadata": {},
     "output_type": "display_data"
    }
   ],
   "source": [
    "# Filter the date index and close columns\n",
    "signals_df = prices_df.loc[:, [\"close\"]]\n",
    "\n",
    "# Use the pct_change function to generate  returns from close prices\n",
    "signals_df[\"Actual Returns\"] = signals_df[\"close\"].pct_change()\n",
    "\n",
    "# Drop all NaN values from the DataFrame\n",
    "signals_df = signals_df.dropna()\n",
    "\n",
    "# Review the DataFrame\n",
    "display(signals_df.head())\n",
    "display(signals_df.tail())"
   ]
  },
  {
   "cell_type": "code",
   "execution_count": null,
   "id": "1f0b432b-9cce-4dd4-9f2f-31859e318a03",
   "metadata": {},
   "outputs": [],
   "source": []
  }
 ],
 "metadata": {
  "kernelspec": {
   "display_name": "dev",
   "language": "python",
   "name": "dev"
  },
  "language_info": {
   "codemirror_mode": {
    "name": "ipython",
    "version": 3
   },
   "file_extension": ".py",
   "mimetype": "text/x-python",
   "name": "python",
   "nbconvert_exporter": "python",
   "pygments_lexer": "ipython3",
   "version": "3.7.11"
  }
 },
 "nbformat": 4,
 "nbformat_minor": 5
}
